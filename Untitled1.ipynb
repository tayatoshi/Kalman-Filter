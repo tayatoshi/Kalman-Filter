{
 "cells": [
  {
   "cell_type": "code",
   "execution_count": null,
   "metadata": {
    "collapsed": false,
    "deletable": true,
    "editable": true
   },
   "outputs": [],
   "source": [
    "import pandas as pd\n",
    "import numpy as np\n",
    "import matplotlib.pyplot as plt\n",
    "plt.style.use('ggplot')\n",
    "\n",
    "nile=pd.read_csv('Nile.csv',index_col=0,parse_dates=True)\n",
    "y=np.array(nile)\n",
    "y_train = y[:80]\n",
    "plt.plot(nile)\n",
    "plt.title('Nile')\n",
    "plt.show()"
   ]
  },
  {
   "cell_type": "code",
   "execution_count": null,
   "metadata": {
    "collapsed": false,
    "deletable": true,
    "editable": true
   },
   "outputs": [],
   "source": [
    "class Kalman():\n",
    "    def __init__(self,data,init_e,init_h,init_z,init_t):\n",
    "        self.data=data\n",
    "        self.length = len(data)\n",
    "        self.init_e=init_e\n",
    "        self.init_h=init_h\n",
    "        self.init_z=init_z\n",
    "        self.init_t=init_t\n",
    "    \n",
    "    def kf(y_train, a0, p0, e, h, Z, T):\n",
    "        length=len(y_train)\n",
    "        a = a0\n",
    "        p = p0\n",
    "        P_t = np.zeros(length)\n",
    "        A_t = np.zeros(length)\n",
    "        vero = np.zeros(length)\n",
    "        for i in range(length):\n",
    "            u = y_train[i] - Z*a\n",
    "            F = Z*p*Z + e\n",
    "            K = p*Z/F\n",
    "            L = 1 - K\n",
    "            A_t[i] = a + K * u\n",
    "            P_t[i] = p -K*F*K\n",
    "            a = T*A_t[i]\n",
    "            p = T*P_t[i]*T + h\n",
    "            vero[i] = np.log(F) + (u ** 2)/F\n",
    "        vero_fit = -0.5*sum(vero)\n",
    "        return({'A_t':A_t, 'P_t':P_t, 'vero_fit':vero_fit, 'y_hat':Z*A_t})\n",
    "    \n",
    "    #pars(np.array([y,e,h,Z,T]))\n",
    "    @classmethod\n",
    "    def pars(clf,p):\n",
    "        y = p[0]\n",
    "        e = np.exp(p[1])\n",
    "        h = np.exp(p[2])\n",
    "        Z = p[3]\n",
    "        T = p[4]\n",
    "        result = Kalman.kf(y,0.0,10.0**6,e,h,Z,T)# pars(self,p)にしてもself.kfではできなかった\n",
    "        return(result)\n",
    "    \n",
    "    def fit(self):\n",
    "        global L\n",
    "        global ep\n",
    "        global eta\n",
    "        global Z\n",
    "        global T\n",
    "        global estimation\n",
    "        re = []\n",
    "        L=None\n",
    "        for e in np.arange(self.init_e[0],self.init_e[1],self.init_e[2]):\n",
    "            for h in np.arange(self.init_h[0],self.init_h[1],self.init_h[2]):\n",
    "                for z in np.arange(self.init_z[0],self.init_z[1],self.init_z[2]):\n",
    "                    for t in np.arange(self.init_t[0],self.init_t[1],self.init_t[2]):\n",
    "                        l=self.pars(np.array([self.data,e,h,z,t]))['vero_fit']\n",
    "                        re.append(l)\n",
    "                        print('(',e,h,z,t,')',l)\n",
    "                        if(L==None or l>L):\n",
    "                            L=l\n",
    "                            ep = e\n",
    "                            eta = h\n",
    "                            Z=z\n",
    "                            T=t\n",
    "        print('\\n')\n",
    "        print('===========================================')\n",
    "        print('log Likelihood = ', L)\n",
    "        print('-------------------------------------------')\n",
    "        print('e = ', ep, 'h = ', eta, 'Z = ', Z, 'T = ', T)\n",
    "        \n",
    "        estimation={\"L\":L, \"e\":ep, \"h\":eta, \"Z\":Z, \"T\":T}\n",
    "        return(estimation)\n",
    "        \n",
    "    def predict(self):\n",
    "        prediction=self.pars(np.array([self.data,estimation['e'],estimation['h'],estimation['Z'],estimation['T']]))\n",
    "        return(prediction)\n",
    "    \n",
    "    def forecast(self, n = 20):\n",
    "        forecast_a = np.zeros(n)\n",
    "        forecast_A = self.predict()['A_t'][-1]\n",
    "        for i in range(n):\n",
    "            forecast_a[i] = estimation['Z']*forecast_A\n",
    "            forecast_A = forecast_a[i]\n",
    "        forecast_a = pd.DataFrame(forecast_a)\n",
    "        forecast_a.index = forecast_a.index + self.length\n",
    "        return(forecast_a)\n",
    "    "
   ]
  },
  {
   "cell_type": "code",
   "execution_count": null,
   "metadata": {
    "collapsed": true,
    "deletable": true,
    "editable": true
   },
   "outputs": [],
   "source": [
    "init_e=np.array([9,10,0.01])\n",
    "init_h=np.array([7,8,0.01])\n",
    "init_z=np.array([1,2,1])\n",
    "init_t=np.array([1,2,1])\n",
    "kfe=Kalman(y_train,init_e,init_h,init_z,init_t)"
   ]
  },
  {
   "cell_type": "code",
   "execution_count": null,
   "metadata": {
    "collapsed": false,
    "deletable": true,
    "editable": true
   },
   "outputs": [],
   "source": [
    "kfe.fit()"
   ]
  },
  {
   "cell_type": "code",
   "execution_count": null,
   "metadata": {
    "collapsed": false,
    "deletable": true,
    "editable": true
   },
   "outputs": [],
   "source": [
    "# In[ ]:\n",
    "\n",
    "pre=kfe.predict()\n",
    "pre"
   ]
  },
  {
   "cell_type": "code",
   "execution_count": null,
   "metadata": {
    "collapsed": false,
    "deletable": true,
    "editable": true
   },
   "outputs": [],
   "source": [
    "fore=kfe.forecast()\n",
    "\n",
    "\n",
    "# In[ ]:\n",
    "\n",
    "plt.plot(y,label='observation')\n",
    "plt.plot(pre['A_t'],label='predict')\n",
    "plt.plot(fore,label='forecast')\n",
    "plt.legend()\n",
    "plt.title('Flow of River Nile')\n",
    "plt.show()\n",
    "\n",
    "\n",
    "# In[ ]:\n",
    "\n",
    "plt.plot(pre['P_t'])\n",
    "plt.show()\n",
    "\n",
    "\n",
    "# In[ ]:\n",
    "\n",
    "\n"
   ]
  },
  {
   "cell_type": "code",
   "execution_count": null,
   "metadata": {
    "collapsed": true,
    "deletable": true,
    "editable": true
   },
   "outputs": [],
   "source": []
  }
 ],
 "metadata": {
  "kernelspec": {
   "display_name": "Python 3",
   "language": "python",
   "name": "python3"
  },
  "language_info": {
   "codemirror_mode": {
    "name": "ipython",
    "version": 3
   },
   "file_extension": ".py",
   "mimetype": "text/x-python",
   "name": "python",
   "nbconvert_exporter": "python",
   "pygments_lexer": "ipython3",
   "version": "3.6.0"
  }
 },
 "nbformat": 4,
 "nbformat_minor": 2
}
