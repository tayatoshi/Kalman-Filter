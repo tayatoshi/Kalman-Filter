{
 "cells": [
  {
   "cell_type": "code",
   "execution_count": null,
   "metadata": {
    "collapsed": false,
    "deletable": true,
    "editable": true
   },
   "outputs": [],
   "source": [
    "import pandas as pd\n",
    "import numpy as np\n",
    "import matplotlib.pyplot as plt\n",
    "plt.style.use('ggplot')\n",
    "\n",
    "nile=pd.read_csv('Nile.csv',index_col=0,parse_dates=True)\n",
    "y=np.array(nile)\n",
    "y_train = y[:80]\n",
    "plt.plot(nile)\n",
    "plt.title('Nile')\n",
    "plt.show()"
   ]
  },
  {
   "cell_type": "code",
   "execution_count": null,
   "metadata": {
    "collapsed": true
   },
   "outputs": [],
   "source": [
    "class Calculation1:\n",
    "    def __init__(self):\n",
    "        pass\n",
    "    \n",
    "    def kf(y_train, a0, p0, e, h, Z, T):\n",
    "        length=len(y_train)\n",
    "        a = a0\n",
    "        p = p0\n",
    "        P_t = np.zeros(length)\n",
    "        A_t = np.zeros(length)\n",
    "        vero = np.zeros(length)\n",
    "        for i in range(length):\n",
    "            u = y_train[i] - Z*a\n",
    "            F = Z*p*Z + e\n",
    "            K = p*Z/F\n",
    "            L = 1 - K\n",
    "            A_t[i] = a + K * u\n",
    "            P_t[i] = p -K*F*K\n",
    "            a = T*A_t[i]\n",
    "            p = T*P_t[i]*T + h\n",
    "            vero[i] = np.log(F) + (u ** 2)/F\n",
    "        vero_fit = -0.5*sum(vero)\n",
    "        return({'A_t':A_t, 'P_t':P_t, 'vero_fit':vero_fit, 'y_hat':Z*A_t})"
   ]
  },
  {
   "cell_type": "code",
   "execution_count": null,
   "metadata": {
    "collapsed": true
   },
   "outputs": [],
   "source": [
    "class Calculation2:\n",
    "    def __init__(self):\n",
    "        pass\n",
    "    \n",
    "    #pars(np.array([y,e,h,Z,T]))\n",
    "    def pars(p):\n",
    "        y = p[0]\n",
    "        e = np.exp(p[1])\n",
    "        h = np.exp(p[2])\n",
    "        Z = p[3]\n",
    "        T = p[4]\n",
    "        result = Calculation1.kf(y,0.0,10.0**6,e,h,Z,T)\n",
    "        return(result)"
   ]
  },
  {
   "cell_type": "code",
   "execution_count": null,
   "metadata": {
    "collapsed": false,
    "deletable": true,
    "editable": true
   },
   "outputs": [],
   "source": [
    "class KF_estimate(Calculation1,Calculation2):\n",
    "    def __init__(self,data,init_e,init_h,init_z,init_t):\n",
    "        self.data = data\n",
    "        self.length = len(data)\n",
    "        re = []\n",
    "        L=None\n",
    "        for e in np.arange(init_e[0],init_e[1],init_e[2]):\n",
    "            for h in np.arange(init_h[0],init_h[1],init_h[2]):\n",
    "                for z in np.arange(init_z[0],init_z[1],init_z[2]):\n",
    "                    for t in np.arange(init_t[0],init_t[1],init_t[2]):\n",
    "                        l=Calculation2.pars(np.array([data,e,h,z,t]))['vero_fit']\n",
    "                        re.append(l)\n",
    "                        print('(',e,h,z,t,')',l)\n",
    "                        if(L==None or l>L):\n",
    "                            L=l\n",
    "                            ep = e\n",
    "                            eta = h\n",
    "                            Z=z\n",
    "                            T=t\n",
    "        print('\\n')\n",
    "        print('===========================================')\n",
    "        print('log Likelihood = ', L)\n",
    "        print('-------------------------------------------')\n",
    "        print('e = ', ep, 'h = ', eta, 'Z = ', Z, 'T = ', T)\n",
    "        self.estimation={\"L\":L, \"e\":ep, \"h\":eta, \"Z\":Z, \"T\":T}\n",
    "        self.prediction=Calculation2.pars(np.array([data,self.estimation['e'],self.estimation['h'],self.estimation['Z'],self.estimation['T']]))\n",
    "    \n",
    "    def predict(self):\n",
    "        return(self.prediction)\n",
    "    \n",
    "    def forecast(self, n = 20):\n",
    "        self.prediction\n",
    "        forecast_a = np.zeros(n)\n",
    "        forecast_A = self.prediction['A_t'][-1]\n",
    "        for i in range(n):\n",
    "            forecast_a[i] = self.estimation['Z']*forecast_A\n",
    "            forecast_A = forecast_a[i]\n",
    "        forecast_a = pd.DataFrame(forecast_a)\n",
    "        forecast_a.index = forecast_a.index + self.length\n",
    "        return(forecast_a)\n",
    "\n",
    "# 平滑化は諦めた。\n",
    "#    def smoothing(self):\n",
    "#        smoothe=np.zeros(self.length)\n",
    "#        for i in range(self.length):\n",
    "#            if(i==0):\n",
    "#                smooth_A[i]=self.predict['A_t'][-(i+1)]\n",
    "#                smooth_P[i]=self.predict['P_t'][-(i+1)]\n",
    "#            else:\n",
    "#                smooth_A[i:=self.predict['A_t'][-(i+1)]+self.predict['P_t'][-(i+1)]*T\n",
    "#        return()"
   ]
  },
  {
   "cell_type": "code",
   "execution_count": null,
   "metadata": {
    "collapsed": false,
    "deletable": true,
    "editable": true
   },
   "outputs": [],
   "source": [
    "init_e=np.array([9,10,0.01])\n",
    "init_h=np.array([7,8,0.01])\n",
    "init_z=np.array([1,2,1])\n",
    "init_t=np.array([1,2,1])\n",
    "kfe=KF_estimate(y_train,init_e,init_h,init_z,init_t)"
   ]
  },
  {
   "cell_type": "code",
   "execution_count": null,
   "metadata": {
    "collapsed": false,
    "deletable": true,
    "editable": true
   },
   "outputs": [],
   "source": [
    "pre=kfe.predict()\n",
    "fore=kfe.forecast()"
   ]
  },
  {
   "cell_type": "code",
   "execution_count": null,
   "metadata": {
    "collapsed": false,
    "deletable": true,
    "editable": true
   },
   "outputs": [],
   "source": [
    "plt.plot(y,label='observation')\n",
    "plt.plot(pre['A_t'],label='predict')\n",
    "plt.plot(fore,label='forecast')\n",
    "plt.legend()\n",
    "plt.title('Flow of River Nile')\n",
    "plt.show()"
   ]
  },
  {
   "cell_type": "code",
   "execution_count": null,
   "metadata": {
    "collapsed": false
   },
   "outputs": [],
   "source": [
    "plt.plot(pre['P_t'])\n",
    "plt.show()"
   ]
  },
  {
   "cell_type": "code",
   "execution_count": null,
   "metadata": {
    "collapsed": true
   },
   "outputs": [],
   "source": []
  }
 ],
 "metadata": {
  "kernelspec": {
   "display_name": "Python 3",
   "language": "python",
   "name": "python3"
  },
  "language_info": {
   "codemirror_mode": {
    "name": "ipython",
    "version": 3
   },
   "file_extension": ".py",
   "mimetype": "text/x-python",
   "name": "python",
   "nbconvert_exporter": "python",
   "pygments_lexer": "ipython3",
   "version": "3.6.0"
  }
 },
 "nbformat": 4,
 "nbformat_minor": 2
}
